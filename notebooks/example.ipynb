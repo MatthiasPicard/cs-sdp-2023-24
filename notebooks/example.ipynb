{
 "cells": [
  {
   "cell_type": "code",
   "execution_count": 1,
   "metadata": {},
   "outputs": [],
   "source": [
    "import os\n",
    "import sys\n",
    "\n",
    "sys.path.append(\"../python\")\n",
    "\n",
    "import matplotlib.pyplot as plt\n",
    "import numpy as np\n",
    "import pandas as pd"
   ]
  },
  {
   "cell_type": "code",
   "execution_count": 2,
   "metadata": {},
   "outputs": [],
   "source": [
    "from data import Dataloader\n",
    "from models import RandomExampleModel\n",
    "import metrics"
   ]
  },
  {
   "cell_type": "code",
   "execution_count": 3,
   "metadata": {},
   "outputs": [],
   "source": [
    "# Loading the data\n",
    "data_loader = Dataloader(\"../data/dataset_4\") # Specify path to the dataset you want to load\n",
    "X, Y = data_loader.load()\n"
   ]
  },
  {
   "cell_type": "code",
   "execution_count": 27,
   "metadata": {},
   "outputs": [
    {
     "data": {
      "text/plain": [
       "<models.RandomExampleModel at 0x1d483c6f910>"
      ]
     },
     "execution_count": 27,
     "metadata": {},
     "output_type": "execute_result"
    }
   ],
   "source": [
    "# Let's train an example model\n",
    "model = RandomExampleModel() # Instantiation of the model with hyperparameters, if needed\n",
    "model.fit(X, Y) # Training of the model, using preference data"
   ]
  },
  {
   "cell_type": "code",
   "execution_count": 23,
   "metadata": {},
   "outputs": [
    {
     "name": "stdout",
     "output_type": "stream",
     "text": [
      "[[-0.06326043 -0.18471619]\n",
      " [-0.20129649 -0.33004454]\n",
      " [ 0.00500771 -0.09058298]\n",
      " [ 0.07658458  0.12828252]\n",
      " [-0.06293998 -0.07432317]]\n"
     ]
    }
   ],
   "source": [
    "# First, let's see how our model reconsiders our preferences\n",
    "# Our data preferences were X[i] >> Y[i] for all i, let's see if our model agrees\n",
    "print((model.predict_utility(X) - model.predict_utility(Y))[:5]) # Preferred item has a higher utility\n",
    "\n",
    "# predict_utility returns utility of samples for each cluster, returning shape (n_samples, n_clusters)"
   ]
  },
  {
   "cell_type": "code",
   "execution_count": 28,
   "metadata": {},
   "outputs": [
    {
     "data": {
      "text/plain": [
       "array([[0.58784814, 0.5184542 ],\n",
       "       [0.53863346, 0.476744  ],\n",
       "       [0.45795201, 0.43516468],\n",
       "       ...,\n",
       "       [0.63536172, 0.66930224],\n",
       "       [0.62726187, 0.65917598],\n",
       "       [0.45242475, 0.47161353]])"
      ]
     },
     "execution_count": 28,
     "metadata": {},
     "output_type": "execute_result"
    }
   ],
   "source": [
    "model.predict_utility(X)"
   ]
  },
  {
   "cell_type": "code",
   "execution_count": 24,
   "metadata": {},
   "outputs": [
    {
     "name": "stdout",
     "output_type": "stream",
     "text": [
      "[[0 0]\n",
      " [0 0]\n",
      " [1 0]\n",
      " [1 1]\n",
      " [0 0]]\n"
     ]
    }
   ],
   "source": [
    "# Or we can directly use the predict_preference method:\n",
    "print(model.predict_preference(X, Y)[:5]) # For each cluster we see if X is preferred to Y (0) or the contrary (1)\n",
    "# predict_preference returns preference of samples for each cluster, returning shape (n_samples, n_clusters)\n",
    "# 0 means that the cluster prefers first argument (here X[i]), 1 means that the cluster prefers second argument (here Y[i])"
   ]
  },
  {
   "cell_type": "code",
   "execution_count": 25,
   "metadata": {},
   "outputs": [
    {
     "name": "stdout",
     "output_type": "stream",
     "text": [
      "Percentage of explained preferences for 5 first samples: 0.8\n"
     ]
    }
   ],
   "source": [
    "# We consider that our model explains our data, if for at least one cluster, X[i] >> Y[i]\n",
    "pairs_explained = np.sum(model.predict_preference(X, Y)[:5] == 0, axis=1) # For each sample check if each clusters prefers X[i] (then is True)\n",
    "pairs_explained = pairs_explained > 0 # If at least one cluster prefers X[i], then X[i] >> Y[i] is explained\n",
    "print(\"Percentage of explained preferences for 5 first samples:\", np.sum(pairs_explained) / 5) # Get % or explained pairs"
   ]
  },
  {
   "cell_type": "code",
   "execution_count": 26,
   "metadata": {},
   "outputs": [
    {
     "name": "stdout",
     "output_type": "stream",
     "text": [
      "Percentage of explained preferences for all samples: 0.5845\n",
      "Percentage of explained preferences for all samples: 0.5845\n"
     ]
    }
   ],
   "source": [
    "# Or we call directly the right metric:\n",
    "pairs_explained = metrics.PairsExplained()\n",
    "print(\"Percentage of explained preferences for all samples:\", pairs_explained.from_model(model, X, Y))\n",
    "# Or other possibility:\n",
    "print(\"Percentage of explained preferences for all samples:\", pairs_explained(model.predict_utility(X), model.predict_utility(Y)))"
   ]
  },
  {
   "cell_type": "code",
   "execution_count": 27,
   "metadata": {},
   "outputs": [
    {
     "name": "stdout",
     "output_type": "stream",
     "text": [
      "[0 0 0 1 0]\n"
     ]
    }
   ],
   "source": [
    "# Now, we can also see how our model clusters our data\n",
    "print(model.predict_cluster(X, Y)[:5]) # Returns for each sample which cluster is the most likely to have generated the preference.\n",
    "# The most likely cluster is the one with the highest utility difference U(X[i])-U(Y[i]) for the sample."
   ]
  },
  {
   "cell_type": "code",
   "execution_count": 28,
   "metadata": {},
   "outputs": [
    {
     "name": "stdout",
     "output_type": "stream",
     "text": [
      "[0 0 0 1 0]\n"
     ]
    }
   ],
   "source": [
    "# Ground truth are also provided:\n",
    "Z = data_loader.get_ground_truth_labels()\n",
    "# We can see how it compares to our model's predictions:\n",
    "print(Z[:5])"
   ]
  },
  {
   "cell_type": "code",
   "execution_count": 29,
   "metadata": {},
   "outputs": [
    {
     "name": "stdout",
     "output_type": "stream",
     "text": [
      "Cluster intersection for 5 first samples: 1.0\n",
      "Cluster intersection for all samples: 0.6577508754377188\n",
      "Cluster intersection for all samples: 0.6577508754377188\n"
     ]
    }
   ],
   "source": [
    "# We have a metric to calculate how well the model has regrouped the preferences pairs compared to ground truth:\n",
    "cluster_intersection = metrics.ClusterIntersection()\n",
    "\n",
    "print(\"Cluster intersection for 5 first samples:\", cluster_intersection(model.predict_cluster(X, Y)[:5], Z[:5]))\n",
    "\n",
    "# Then for all data:\n",
    "print(\"Cluster intersection for all samples:\", cluster_intersection(model.predict_cluster(X, Y), Z))\n",
    "print(\"Cluster intersection for all samples:\", cluster_intersection.from_model(model, X, Y, Z))"
   ]
  },
  {
   "cell_type": "code",
   "execution_count": 30,
   "metadata": {},
   "outputs": [
    {
     "data": {
      "image/png": "[encoded data removed]",
      "text/plain": [
       "<Figure size 640x480 with 1 Axes>"
      ]
     },
     "metadata": {},
     "output_type": "display_data"
    }
   ],
   "source": [
    "# Here is a proposition of a useful plot to see how the model clusters the data:\n",
    "# We look at how each cluster evaluates U(x) - U(y) and color with ground truth clustering\n",
    "# Note that x >>_1 y means that x is preferred to y for cluster 1\n",
    "from matplotlib.patches import Rectangle\n",
    "from matplotlib.lines import Line2D\n",
    "\n",
    "plt.figure()\n",
    "plt.xlabel(\"U1(x) - U1(y)\")\n",
    "plt.ylabel(\"U2(x) - U2(y)\")\n",
    "\n",
    "plt.gca().add_patch(Rectangle((0,-1.),1., 2.,\n",
    "                    edgecolor='red',\n",
    "                    facecolor='none',\n",
    "                    lw=0, \n",
    "                    hatch='/'))\n",
    "plt.gca().add_patch(Rectangle((-1.,0), 2., 1.,\n",
    "                    edgecolor='green',\n",
    "                    facecolor='none',\n",
    "                    lw=0, \n",
    "                    hatch='\\\\'))\n",
    "plt.gca().add_patch(Rectangle((-1.,-1.),1., 1.,\n",
    "                    edgecolor='blue',\n",
    "                    facecolor='none',\n",
    "                    hatch='/',\n",
    "                    lw=0))\n",
    "plt.scatter(model.predict_utility(X)[:, 0]-model.predict_utility(Y)[:, 0], \n",
    "            model.predict_utility(X)[:, 1]-model.predict_utility(Y)[:, 1], c=Z)\n",
    "\n",
    "custom_lines = [Line2D([0], [0], color=\"red\", lw=4),\n",
    "                Line2D([0], [0], color=\"green\", lw=4),\n",
    "                Line2D([0], [0], color=\"b\", lw=4)]\n",
    "\n",
    "plt.legend(custom_lines, ['x >>_1 y', \"x >>_2 y \", 'No preference of x over y'])\n",
    "plt.show()"
   ]
  },
  {
   "cell_type": "code",
   "execution_count": 31,
   "metadata": {},
   "outputs": [
    {
     "data": {
      "text/plain": [
       "4000"
      ]
     },
     "execution_count": 31,
     "metadata": {},
     "output_type": "execute_result"
    }
   ],
   "source": [
    "len(np.concatenate((X,Y),axis=0))"
   ]
  },
  {
   "cell_type": "markdown",
   "metadata": {},
   "source": [
    "Our random model cannot explain a large part of our preference data. Your first assigment will be to write a Mixed-Interger Programming algorithm that will be able to do so."
   ]
  },
  {
   "cell_type": "code",
   "execution_count": 4,
   "metadata": {},
   "outputs": [
    {
     "name": "stdout",
     "output_type": "stream",
     "text": [
      "Set parameter Username\n"
     ]
    },
    {
     "name": "stdout",
     "output_type": "stream",
     "text": [
      "Academic license - for non-commercial use only - expires 2024-12-18\n",
      "Gurobi Optimizer version 11.0.0 build v11.0.0rc2 (win64 - Windows 11+.0 (22631.2))\n",
      "\n",
      "CPU model: Intel(R) Core(TM) i7-1065G7 CPU @ 1.30GHz, instruction set [SSE2|AVX|AVX2|AVX512]\n",
      "Thread count: 4 physical cores, 8 logical processors, using up to 8 threads\n",
      "\n",
      "Optimize a model with 6050 rows, 12048 columns and 75836 nonzeros\n",
      "Model fingerprint: 0xe5480247\n",
      "Variable types: 8048 continuous, 4000 integer (4000 binary)\n",
      "Coefficient statistics:\n",
      "  Matrix range     [1e-06, 5e+00]\n",
      "  Objective range  [1e+00, 1e+00]\n",
      "  Bounds range     [1e+00, 1e+00]\n",
      "  RHS range        [1e-03, 5e+00]\n",
      "Found heuristic solution: objective 175.8612976\n",
      "Presolve removed 2016 rows and 8008 columns\n",
      "Presolve time: 0.09s\n",
      "Presolved: 4034 rows, 4040 columns, 53876 nonzeros\n",
      "Variable types: 2040 continuous, 2000 integer (2000 binary)\n",
      "\n",
      "Root relaxation: objective 0.000000e+00, 1288 iterations, 0.04 seconds (0.07 work units)\n",
      "\n",
      "    Nodes    |    Current Node    |     Objective Bounds      |     Work\n",
      " Expl Unexpl |  Obj  Depth IntInf | Incumbent    BestBd   Gap | It/Node Time\n",
      "\n",
      "     0     0    0.00000    0  491  175.86130    0.00000   100%     -    0s\n",
      "H    0     0                      35.2287552    0.00000   100%     -    0s\n",
      "H    0     0                      24.0125078    0.00000   100%     -    1s\n",
      "H    0     0                      23.5148045    0.00000   100%     -    1s\n",
      "H    0     0                      18.2430222    0.00000   100%     -    1s\n",
      "H    0     0                      17.9328517    0.00000   100%     -    1s\n",
      "     0     0    0.00000    0  471   17.93285    0.00000   100%     -    1s\n",
      "     0     0    0.00000    0  470   17.93285    0.00000   100%     -    1s\n",
      "H    0     0                       5.2911124    0.00000   100%     -    2s\n",
      "     0     0    0.00000    0  336    5.29111    0.00000   100%     -    2s\n",
      "     0     0    0.00000    0  345    5.29111    0.00000   100%     -    3s\n",
      "     0     0    0.00000    0  344    5.29111    0.00000   100%     -    3s\n",
      "H    0     0                       4.8288160    0.00000   100%     -    3s\n",
      "     0     0    0.00000    0  344    4.82882    0.00000   100%     -    4s\n",
      "     0     0    0.00000    0  344    4.82882    0.00000   100%     -    4s\n",
      "     0     2    0.00000    0  344    4.82882    0.00000   100%     -    4s\n",
      "     7    12    0.01629    3  696    4.82882    0.00000   100%   674    5s\n",
      "H   27    32                       4.5337731    0.00000   100%   525    5s\n",
      "H   29    32                       4.4837520    0.00000   100%   504    5s\n",
      "H   30    32                       4.4313631    0.00000   100%   493    5s\n",
      "H   88   118                       3.5492356    0.00000   100%   435    6s\n",
      "H  154   175                       2.9910621    0.00000   100%   348    6s\n",
      "H  180   282                       2.5123015    0.00000   100%   329    7s\n",
      "H  379   520                       2.2053016    0.00000   100%   212    7s\n",
      "H  469   520                       2.2005174    0.00000   100%   179    7s\n",
      "H  539   663                       2.0692049    0.00000   100%   163    7s\n",
      "H  576   663                       2.0387625    0.00000   100%   155    7s\n",
      "H  654   663                       1.9301539    0.00000   100%   142    7s\n",
      "H  684   732                       1.8791645    0.00000   100%   139    7s\n",
      "H  717   729                       1.8284787    0.00000   100%   134    7s\n",
      "H  746   717                       1.6958037    0.00000   100%   132    7s\n",
      "H  778   834                       1.6782889    0.00000   100%   129    8s\n",
      "H  836   814                       1.5430762    0.00000   100%   121    8s\n",
      "H  862   814                       1.5255614    0.00000   100%   119    8s\n",
      "H 1112   422                       0.7758085    0.00000   100%   117    9s\n",
      "  1114   405    0.16232   17  344    0.77581    0.00000   100%   117   10s\n",
      "H 1115   385                       0.6807704    0.00000   100%   117   11s\n",
      "H 1116   366                       0.6536319    0.00000   100%   117   14s\n",
      "H 1116   347                       0.6390353    0.00000   100%   117   14s\n",
      "H 1116   330                       0.6025747    0.00000   100%   117   14s\n",
      "H 1117   314                       0.5654536    0.00000   100%   116   14s\n",
      "H 1118   300                       0.5581379    0.00000   100%   116   15s\n",
      "H 1118   285                       0.3672079    0.00000   100%   116   16s\n"
     ]
    }
   ],
   "source": [
    "# This cell should work when you have completed the TwoClustersMIP model\n",
    "from models import TwoClustersMIP\n",
    "\n",
    "parameters = {\"n_pieces\": 5,\"n_clusters\":2} # Can be completed\n",
    "model = TwoClustersMIP(**parameters)\n",
    "model.fit(X, Y)\n",
    "\n",
    "# Uncomment once your model is working\n",
    "print(\"Percentage of explained preferences on train data:\", pairs_explained.from_model(model, X, Y)) # You should get 1.0 with the right MIP\n",
    "print(\"Percentage of preferences well regrouped into clusters:\", cluster_intersection.from_model(model, X, Y, Z))"
   ]
  },
  {
   "cell_type": "code",
   "execution_count": 23,
   "metadata": {},
   "outputs": [
    {
     "data": {
      "text/plain": [
       "<gurobi.Var binary_0_8 (value 0.0)>"
      ]
     },
     "execution_count": 23,
     "metadata": {},
     "output_type": "execute_result"
    }
   ],
   "source": [
    "model.model.getVarByName(name = \"binary_0_8\")"
   ]
  },
  {
   "cell_type": "code",
   "execution_count": 25,
   "metadata": {},
   "outputs": [
    {
     "ename": "NameError",
     "evalue": "name 'pairs_explained' is not defined",
     "output_type": "error",
     "traceback": [
      "\u001b[1;31m---------------------------------------------------------------------------\u001b[0m",
      "\u001b[1;31mNameError\u001b[0m                                 Traceback (most recent call last)",
      "Cell \u001b[1;32mIn[25], line 1\u001b[0m\n\u001b[1;32m----> 1\u001b[0m \u001b[38;5;28mprint\u001b[39m(\u001b[38;5;124m\"\u001b[39m\u001b[38;5;124mPercentage of explained preferences on train data:\u001b[39m\u001b[38;5;124m\"\u001b[39m, \u001b[43mpairs_explained\u001b[49m\u001b[38;5;241m.\u001b[39mfrom_model(model, X, Y)) \u001b[38;5;66;03m# You should get 1.0 with the right MIP\u001b[39;00m\n\u001b[0;32m      2\u001b[0m \u001b[38;5;28mprint\u001b[39m(\u001b[38;5;124m\"\u001b[39m\u001b[38;5;124mPercentage of preferences well regrouped into clusters:\u001b[39m\u001b[38;5;124m\"\u001b[39m, cluster_intersection\u001b[38;5;241m.\u001b[39mfrom_model(model, X, Y, Z))\n",
      "\u001b[1;31mNameError\u001b[0m: name 'pairs_explained' is not defined"
     ]
    }
   ],
   "source": [
    "print(\"Percentage of explained preferences on train data:\", pairs_explained.from_model(model, X, Y)) # You should get 1.0 with the right MIP\n",
    "print(\"Percentage of preferences well regrouped into clusters:\", cluster_intersection.from_model(model, X, Y, Z))"
   ]
  },
  {
   "cell_type": "code",
   "execution_count": null,
   "metadata": {},
   "outputs": [],
   "source": [
    "# As an example here are the results obtained with:\n",
    "# Uncomment the code to check your results\n",
    "plt.figure()\n",
    "plt.scatter(model.predict_utility(X)[:, 0]-model.predict_utility(Y)[:, 0], \n",
    "            model.predict_utility(X)[:, 1]-model.predict_utility(Y)[:, 1], c=Z)\n",
    "plt.xlabel(\"U1(x) - U1(y)\")\n",
    "plt.ylabel(\"U2(x) - U2(y)\")\n",
    "plt.show()\n",
    "\n",
    "# Here is how it should look like\n",
    "from IPython.display import Image\n",
    "Image(\"../images/MIP_results_example.png\")"
   ]
  },
  {
   "cell_type": "markdown",
   "metadata": {},
   "source": [
    "Your second assignement will be to find another model that will work well with larger data instances."
   ]
  },
  {
   "cell_type": "code",
   "execution_count": null,
   "metadata": {},
   "outputs": [],
   "source": []
  }
 ],
 "metadata": {
  "kernelspec": {
   "display_name": "start_env",
   "language": "python",
   "name": "python3"
  },
  "language_info": {
   "codemirror_mode": {
    "name": "ipython",
    "version": 3
   },
   "file_extension": ".py",
   "mimetype": "text/x-python",
   "name": "python",
   "nbconvert_exporter": "python",
   "pygments_lexer": "ipython3",
   "version": "3.11.7"
  }
 },
 "nbformat": 4,
 "nbformat_minor": 2
}
